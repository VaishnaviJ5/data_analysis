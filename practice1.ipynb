{
 "cells": [
  {
   "cell_type": "code",
   "execution_count": 16,
   "id": "b6f7afe5-50b6-42b7-a3e5-a03627fe477a",
   "metadata": {},
   "outputs": [],
   "source": [
    "import numpy as np"
   ]
  },
  {
   "cell_type": "code",
   "execution_count": 3,
   "id": "0ce4526f-888f-4664-be37-c4deb15da1f5",
   "metadata": {},
   "outputs": [
    {
     "data": {
      "text/plain": [
       "array([1.        , 2.33333333, 3.66666667, 5.        ])"
      ]
     },
     "execution_count": 3,
     "metadata": {},
     "output_type": "execute_result"
    }
   ],
   "source": [
    "np.linspace(1,5,4)"
   ]
  },
  {
   "cell_type": "code",
   "execution_count": 4,
   "id": "4e491702-6bd6-40e2-b09b-d53c8946cb3e",
   "metadata": {},
   "outputs": [
    {
     "data": {
      "text/plain": [
       "array([[0., 0., 0., 0.],\n",
       "       [0., 0., 0., 0.],\n",
       "       [0., 0., 0., 0.]])"
      ]
     },
     "execution_count": 4,
     "metadata": {},
     "output_type": "execute_result"
    }
   ],
   "source": [
    "np.zeros((3,4))"
   ]
  },
  {
   "cell_type": "code",
   "execution_count": 5,
   "id": "d1eec612-c654-46a9-94ee-0d9faf6c2306",
   "metadata": {},
   "outputs": [
    {
     "data": {
      "text/plain": [
       "array([[1., 0., 0., 0.],\n",
       "       [0., 1., 0., 0.],\n",
       "       [0., 0., 1., 0.],\n",
       "       [0., 0., 0., 1.]])"
      ]
     },
     "execution_count": 5,
     "metadata": {},
     "output_type": "execute_result"
    }
   ],
   "source": [
    "np.identity(4)"
   ]
  },
  {
   "cell_type": "code",
   "execution_count": 6,
   "id": "e63572f3-8430-465e-97c4-ebea0ffec125",
   "metadata": {},
   "outputs": [
    {
     "data": {
      "text/plain": [
       "array([9, 7, 9, 4, 1, 3, 3, 9, 9, 3, 4, 6, 5, 2, 5, 5, 8, 4, 5, 2, 6, 4,\n",
       "       2, 4, 4, 5, 4, 6, 3, 9, 4, 4, 2, 1, 8, 9, 2, 7, 5, 9, 4, 7, 3, 5,\n",
       "       7, 8, 6, 3, 1, 8], dtype=int32)"
      ]
     },
     "execution_count": 6,
     "metadata": {},
     "output_type": "execute_result"
    }
   ],
   "source": [
    "np.random.randint(1,10,50)"
   ]
  },
  {
   "cell_type": "code",
   "execution_count": 7,
   "id": "e7034573-1e0c-4dc2-acea-1f072bc4f39f",
   "metadata": {},
   "outputs": [
    {
     "data": {
      "text/plain": [
       "array([0.93148736, 0.38854593, 0.36053035, 0.57204668, 0.74566841,\n",
       "       0.67280575, 0.10331314])"
      ]
     },
     "execution_count": 7,
     "metadata": {},
     "output_type": "execute_result"
    }
   ],
   "source": [
    "np.random.rand(7)"
   ]
  },
  {
   "cell_type": "code",
   "execution_count": 8,
   "id": "7ced42e6-4bee-4df9-a9af-ca91be44c7c1",
   "metadata": {},
   "outputs": [
    {
     "data": {
      "text/plain": [
       "array([ 0.78087798,  0.41744954, -0.05481517, -0.67810525,  0.30785433,\n",
       "        0.33393505,  1.73185292,  0.13098155,  0.5071048 , -1.64397363])"
      ]
     },
     "execution_count": 8,
     "metadata": {},
     "output_type": "execute_result"
    }
   ],
   "source": [
    "np.random.randn(10)"
   ]
  },
  {
   "cell_type": "code",
   "execution_count": 9,
   "id": "3b113737-71cd-4e5b-94e7-99b6ea39df69",
   "metadata": {},
   "outputs": [
    {
     "name": "stdout",
     "output_type": "stream",
     "text": [
      "1737301167056\n",
      "1737301165616\n"
     ]
    },
    {
     "data": {
      "text/plain": [
       "array([10, 20, 30, 40])"
      ]
     },
     "execution_count": 9,
     "metadata": {},
     "output_type": "execute_result"
    }
   ],
   "source": [
    "arr = np.array([10,20,30,40])\n",
    "arr1 = arr.copy()\n",
    "print(id(arr))\n",
    "print(id(arr1))\n",
    "arr1[0]=900\n",
    "arr1\n",
    "arr\n",
    "#addresses are different and changes are not reflected "
   ]
  },
  {
   "cell_type": "code",
   "execution_count": 10,
   "id": "cb205b8d-68a0-4221-a271-6f4f7e47c417",
   "metadata": {},
   "outputs": [
    {
     "name": "stdout",
     "output_type": "stream",
     "text": [
      "1737301166960\n",
      "1737301167440\n",
      "[900  20  30  40]\n",
      "[900  20  30  40]\n"
     ]
    }
   ],
   "source": [
    "arr = np.array([10,20,30,40])\n",
    "arr1 = arr.view()\n",
    "print(id(arr))\n",
    "print(id(arr1))\n",
    "arr1[0]=900\n",
    "print(arr1)\n",
    "print(arr)\n",
    "#addresses are different but changes are reflected"
   ]
  },
  {
   "cell_type": "code",
   "execution_count": 11,
   "id": "ffab7a89-da39-4577-bcbe-3f1985c97629",
   "metadata": {},
   "outputs": [
    {
     "data": {
      "text/plain": [
       "np.int64(46)"
      ]
     },
     "execution_count": 11,
     "metadata": {},
     "output_type": "execute_result"
    }
   ],
   "source": [
    "arr = np.array([45,46,47,48,49])\n",
    "arr[-4]\n"
   ]
  },
  {
   "cell_type": "code",
   "execution_count": 12,
   "id": "98e03573-a386-4ace-aa5e-4476114aa760",
   "metadata": {},
   "outputs": [
    {
     "data": {
      "text/plain": [
       "array([10, 11, 12])"
      ]
     },
     "execution_count": 12,
     "metadata": {},
     "output_type": "execute_result"
    }
   ],
   "source": [
    "arr = np.array([[1,2,3,4],[5,6,7,8],[9,10,11,12]])\n",
    "arr[0]\n",
    "arr[1:][1][1:]"
   ]
  },
  {
   "cell_type": "code",
   "execution_count": 13,
   "id": "d4a55512-73d3-4895-9d14-ac6b7f63820e",
   "metadata": {},
   "outputs": [],
   "source": [
    "#Indexing and slicing on array"
   ]
  },
  {
   "cell_type": "code",
   "execution_count": 14,
   "id": "c68b1d3b-1c3f-44ac-9f92-25e7fe91287d",
   "metadata": {},
   "outputs": [
    {
     "data": {
      "text/plain": [
       "array([100, 102, 104])"
      ]
     },
     "execution_count": 14,
     "metadata": {},
     "output_type": "execute_result"
    }
   ],
   "source": [
    "#1D Array\n",
    "#indexing\n",
    "arr = np.array([100,101,102,103,104])\n",
    "arr[0]\n",
    "arr[-5]\n",
    "#slicing\n",
    "arr[::2]"
   ]
  },
  {
   "cell_type": "code",
   "execution_count": 21,
   "id": "1f18adbf-297d-48c1-a722-c5a75133fe86",
   "metadata": {},
   "outputs": [
    {
     "data": {
      "text/plain": [
       "array([5, 6, 7, 8])"
      ]
     },
     "execution_count": 21,
     "metadata": {},
     "output_type": "execute_result"
    }
   ],
   "source": [
    "#2D array\n",
    "arr = np.array([[1,2,3,4],[5,6,7,8],[9,10,11,12]])\n",
    "arr\n",
    "arr[1]\n"
   ]
  },
  {
   "cell_type": "code",
   "execution_count": 26,
   "id": "02df3273",
   "metadata": {},
   "outputs": [
    {
     "data": {
      "text/plain": [
       "array([[ 1,  2,  3,  4],\n",
       "       [ 9, 10, 11, 12]])"
      ]
     },
     "execution_count": 26,
     "metadata": {},
     "output_type": "execute_result"
    }
   ],
   "source": [
    "#slicing\n",
    "arr[0:3:2]"
   ]
  },
  {
   "cell_type": "code",
   "execution_count": null,
   "id": "d8090c42",
   "metadata": {},
   "outputs": [],
   "source": [
    "#indexing slicing both"
   ]
  }
 ],
 "metadata": {
  "kernelspec": {
   "display_name": "Python 3 (ipykernel)",
   "language": "python",
   "name": "python3"
  },
  "language_info": {
   "codemirror_mode": {
    "name": "ipython",
    "version": 3
   },
   "file_extension": ".py",
   "mimetype": "text/x-python",
   "name": "python",
   "nbconvert_exporter": "python",
   "pygments_lexer": "ipython3",
   "version": "3.12.4"
  }
 },
 "nbformat": 4,
 "nbformat_minor": 5
}
